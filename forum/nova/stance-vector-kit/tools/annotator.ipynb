{
 "cells": [
  {
   "cell_type": "markdown",
   "id": "823733d8",
   "metadata": {},
   "source": [
    "# SVK Quick Annotator\n",
    "Load a transcript (JSONL) → create a labeling sheet → save CSV."
   ]
  },
  {
   "cell_type": "code",
   "execution_count": null,
   "id": "25798324",
   "metadata": {},
   "outputs": [],
   "source": [
    "\n",
    "import json, pandas as pd, os\n",
    "from IPython.display import display\n",
    "\n",
    "INPUT_JSONL = 'examples/sample_transcript.jsonl'  # change to your path\n",
    "OUT_CSV = 'data/labels_annotated.csv'\n",
    "\n",
    "turns = []\n",
    "with open(INPUT_JSONL,'r',encoding='utf-8') as f:\n",
    "    for i,ln in enumerate(f):\n",
    "        ln = ln.strip()\n",
    "        if not ln: \n",
    "            continue\n",
    "        obj = json.loads(ln)\n",
    "        obj['turn_idx']=i\n",
    "        obj['session_id']=obj.get('session_id','S1')\n",
    "        turns.append(obj)\n",
    "\n",
    "df = pd.DataFrame(turns)[['session_id','turn_idx','speaker','text']]\n",
    "for ax in ['EH','DC','EX','MA','RR','AG','AS','SV','VA','AR','IF','ED']:\n",
    "    df[ax]=''\n",
    "display(df.head())\n"
   ]
  },
  {
   "cell_type": "code",
   "execution_count": null,
   "id": "1f9d2baf",
   "metadata": {},
   "outputs": [],
   "source": [
    "\n",
    "display(df)\n",
    "print('Edit cells above; then run next cell to save.')\n"
   ]
  },
  {
   "cell_type": "code",
   "execution_count": null,
   "id": "95d3415f",
   "metadata": {},
   "outputs": [],
   "source": [
    "\n",
    "os.makedirs('data', exist_ok=True)\n",
    "df.to_csv(OUT_CSV, index=False)\n",
    "print('Saved to', OUT_CSV)\n"
   ]
  }
 ],
 "metadata": {},
 "nbformat": 4,
 "nbformat_minor": 5
}
