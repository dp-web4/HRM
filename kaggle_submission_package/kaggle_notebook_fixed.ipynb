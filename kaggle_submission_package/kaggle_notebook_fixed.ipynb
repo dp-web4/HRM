{
 "cells": [
  {
   "cell_type": "markdown",
   "metadata": {},
   "source": [
    "# ARC Prize 2025 - SAGE-7M Submission\n",
    "Evolution of Sapient's HRM with 75% parameter reduction (6.95M parameters)"
   ]
  },
  {
   "cell_type": "code",
   "execution_count": null,
   "metadata": {},
   "outputs": [],
   "source": [
    "# Install dependencies\n",
    "!pip install -r /kaggle/input/sage-7m-2/kaggle_requirements.txt -q"
   ]
  },
  {
   "cell_type": "code",
   "execution_count": null,
   "metadata": {},
   "outputs": [],
   "source": [
    "# Copy submission script to working directory\n",
    "!cp /kaggle/input/sage-7m-2/kaggle_submission.py /kaggle/working/"
   ]
  },
  {
   "cell_type": "code",
   "execution_count": null,
   "metadata": {},
   "outputs": [],
   "source": [
    "# Run the submission script\n",
    "!cd /kaggle/working && python kaggle_submission.py"
   ]
  },
  {
   "cell_type": "code",
   "execution_count": null,
   "metadata": {},
   "outputs": [],
   "source": [
    "# Verify submission was created\n",
    "import os\n",
    "import json\n",
    "\n",
    "submission_path = '/kaggle/working/submission.json'\n",
    "if os.path.exists(submission_path):\n",
    "    with open(submission_path, 'r') as f:\n",
    "        submission = json.load(f)\n",
    "    print(f'✓ Submission created successfully!')\n",
    "    print(f'  Contains {len(submission)} task solutions')\n",
    "    print(f'  File size: {os.path.getsize(submission_path):,} bytes')\n",
    "    print(f'  First 5 tasks: {list(submission.keys())[:5]}')\n",
    "else:\n",
    "    print('✗ submission.json not found!')\n",
    "    print('Files in /kaggle/working:')\n",
    "    for f in os.listdir('/kaggle/working'):\n",
    "        print(f'  - {f}')"
   ]
  },
  {
   "cell_type": "code",
   "execution_count": null,
   "metadata": {},
   "outputs": [],
   "source": [
    "# Show all files in working directory\n",
    "!ls -la /kaggle/working/"
   ]
  }
 ],
 "metadata": {
  "kernelspec": {
   "display_name": "Python 3",
   "language": "python",
   "name": "python3"
  }
 },
 "nbformat": 4,
 "nbformat_minor": 4
}