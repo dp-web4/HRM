{
 "cells": [
  {
   "cell_type": "markdown",
   "metadata": {},
   "source": [
    "# ARC Prize 2025 - SAGE-7M Debug Notebook\n",
    "This notebook helps debug why output isn't being created"
   ]
  },
  {
   "cell_type": "code",
   "execution_count": null,
   "metadata": {},
   "outputs": [],
   "source": [
    "# Install dependencies\n",
    "!pip install torch numpy -q"
   ]
  },
  {
   "cell_type": "code",
   "execution_count": null,
   "metadata": {},
   "outputs": [],
   "source": [
    "# Copy debug script into working dir\n",
    "!cp /kaggle/input/sage-7m-2/kaggle_submission_debug.py ."
   ]
  },
  {
   "cell_type": "code",
   "execution_count": null,
   "metadata": {},
   "outputs": [],
   "source": [
    "# Run the debug version with full output\n",
    "!python kaggle_submission_debug.py"
   ]
  },
  {
   "cell_type": "code",
   "execution_count": null,
   "metadata": {},
   "outputs": [],
   "source": [
    "# Check what files exist after execution\n",
    "import os\n",
    "print(\"Files in /kaggle/working:\")\n",
    "for f in os.listdir('/kaggle/working'):\n",
    "    size = os.path.getsize(f'/kaggle/working/{f}')\n",
    "    print(f\"  {f}: {size} bytes\")"
   ]
  },
  {
   "cell_type": "code",
   "execution_count": null,
   "metadata": {},
   "outputs": [],
   "source": [
    "# Try to read the submission if it exists\n",
    "import json\n",
    "try:\n",
    "    with open('/kaggle/working/submission.json', 'r') as f:\n",
    "        data = json.load(f)\n",
    "    print(f\"Submission has {len(data)} tasks\")\n",
    "    print(f\"First task ID: {list(data.keys())[0]}\")\n",
    "except FileNotFoundError:\n",
    "    print(\"submission.json not found!\")\n",
    "except Exception as e:\n",
    "    print(f\"Error: {e}\")"
   ]
  }
 ],
 "metadata": {
  "kernelspec": {
   "display_name": "Python 3",
   "language": "python",
   "name": "python3"
  }
 },
 "nbformat": 4,
 "nbformat_minor": 4
}